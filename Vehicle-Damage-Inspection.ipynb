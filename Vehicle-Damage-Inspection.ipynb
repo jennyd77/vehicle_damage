{
 "cells": [
  {
   "cell_type": "markdown",
   "metadata": {},
   "source": [
    " ###  <h1><center>Vehicle Damage Inspection</center></h1>    "
   ]
  },
  {
   "cell_type": "markdown",
   "metadata": {},
   "source": [
    "\n",
    "Significant time is spent by auto insurance adjusters to appraise vehicle loss and estimate the final settlement amount. Large volume of minor loss claims consume significant bandwidth of adjusters. A machine learning model can reduce this amount by inspecting and identifying type of damage after car accident."
   ]
  },
  {
   "cell_type": "code",
   "execution_count": null,
   "metadata": {},
   "outputs": [],
   "source": [
    "# Import required libraries\n",
    "import os\n",
    "import cv2\n",
    "import numpy as np\n",
    "import json\n",
    "import boto3\n",
    "import random"
   ]
  },
  {
   "cell_type": "code",
   "execution_count": null,
   "metadata": {},
   "outputs": [],
   "source": [
    "from matplotlib import pyplot as plt\n",
    "def show_image(temp):\n",
    "    plt.figure()\n",
    "    plt.imshow(temp)\n",
    "    plt.show()"
   ]
  },
  {
   "cell_type": "markdown",
   "metadata": {},
   "source": [
    "### Create endpoint from subscription"
   ]
  },
  {
   "cell_type": "markdown",
   "metadata": {},
   "source": [
    "#### Find model in marketplace\n",
    "https://aws.amazon.com/marketplace/pp/Persistent-Systems-Vehicle-Damage-Inspection/prodview-xhj66rbazm6oe<br>\n",
    "\"Continue to subscribe\"<br>\n",
    "\"Continue to configuration\"<br>\n",
    "Select region<br>\n",
    "\"View in SageMaker\"<br>\n",
    "#### Create model\n",
    "    Select IAM role to allow SageMaker to create the model<br>\n",
    "#### Create endpoint configuration\n",
    "    Provide name<br>\n",
    "#### Create endpoint\n",
    "    Select configuration you just created<br>"
   ]
  },
  {
   "cell_type": "markdown",
   "metadata": {},
   "source": [
    "### Provide endpoint name"
   ]
  },
  {
   "cell_type": "code",
   "execution_count": null,
   "metadata": {},
   "outputs": [],
   "source": [
    "ENDPOINT_NAME = 'vehicle-damage-endpoint'"
   ]
  },
  {
   "cell_type": "markdown",
   "metadata": {},
   "source": [
    "### Make Predictions"
   ]
  },
  {
   "cell_type": "markdown",
   "metadata": {},
   "source": [
    "Provide any of the following as input image to the model"
   ]
  },
  {
   "cell_type": "code",
   "execution_count": null,
   "metadata": {},
   "outputs": [],
   "source": [
    "Test_img = 'Broken_Windshield.jpg'\n",
    "\n",
    "# Test_img = 'Broken_Headlight.jpg'\n",
    "# Test_img = 'Frontal_Damage.jpg'\n",
    "# Test_img = 'No_Damage.jpg'"
   ]
  },
  {
   "cell_type": "code",
   "execution_count": null,
   "metadata": {},
   "outputs": [],
   "source": [
    "# Read an image into the object called \"temp\"\n",
    "temp=cv2.imread(Test_img)\n",
    "# Convert image from BGR to RGB\n",
    "test_img=cv2.cvtColor(temp,cv2.COLOR_BGR2RGB) \n",
    "show_image(test_img)"
   ]
  },
  {
   "cell_type": "code",
   "execution_count": null,
   "metadata": {},
   "outputs": [],
   "source": [
    "# encode image into a memory buffer as jpeg\n",
    "_, img_encoded = cv2.imencode('.jpg', temp)\n",
    "# Convert the image into a binary string called \"payload\"\n",
    "payload = img_encoded.tostring()\n",
    "\n",
    "sagemaker = boto3.client('runtime.sagemaker')\n",
    "result = sagemaker.invoke_endpoint(\n",
    "    EndpointName=ENDPOINT_NAME,\n",
    "    ContentType='image/jpeg',\n",
    "    Body=payload)\n"
   ]
  },
  {
   "cell_type": "markdown",
   "metadata": {},
   "source": [
    "### Display The Output"
   ]
  },
  {
   "cell_type": "code",
   "execution_count": null,
   "metadata": {},
   "outputs": [],
   "source": [
    "result['Body'].read().decode()"
   ]
  },
  {
   "cell_type": "markdown",
   "metadata": {},
   "source": [
    "# Delete endpoint\n",
    "When finished, delete the endpoint to stop paying for the EC2 instance and any model subscription fee"
   ]
  },
  {
   "cell_type": "code",
   "execution_count": null,
   "metadata": {},
   "outputs": [],
   "source": [
    "sage_client = boto3.Session().client('sagemaker')\n",
    "sage_client.delete_endpoint(    \n",
    "                EndpointName=ENDPOINT_NAME\n",
    ")   \n"
   ]
  },
  {
   "cell_type": "markdown",
   "metadata": {},
   "source": [
    "© 2018 Persistent Systems"
   ]
  }
 ],
 "metadata": {
  "kernelspec": {
   "display_name": "conda_mxnet_p27",
   "language": "python",
   "name": "conda_mxnet_p27"
  },
  "language_info": {
   "codemirror_mode": {
    "name": "ipython",
    "version": 2
   },
   "file_extension": ".py",
   "mimetype": "text/x-python",
   "name": "python",
   "nbconvert_exporter": "python",
   "pygments_lexer": "ipython2",
   "version": "2.7.15"
  }
 },
 "nbformat": 4,
 "nbformat_minor": 2
}
